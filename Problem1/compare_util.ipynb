{
  "nbformat": 4,
  "nbformat_minor": 0,
  "metadata": {
    "colab": {
      "name": "Sojern.ipynb",
      "provenance": [],
      "collapsed_sections": []
    },
    "kernelspec": {
      "name": "python3",
      "display_name": "Python 3"
    },
    "language_info": {
      "name": "python"
    }
  },
  "cells": [
    {
      "cell_type": "markdown",
      "source": [
        "Util - 'compare versions' \n",
        "\n",
        "Implement a utility (in Go, Python, or Java). Feel free to use a framework, if desired.\n",
        "\n",
        "Compare two version numbers version1 and version2.\n",
        "\n",
        "If version1 > version2 return 1\n",
        "\n",
        "If version1 < version2 return -1\n",
        "\n",
        "otherwise return 0\n",
        "\n",
        "You may assume that the version strings are non-empty and contain only digits and the 'dot' character. The 'dot' character does not represent a\n",
        "decimal point and is used to separate number sequences. For instance '2.5' is not \"two and a half\" or \"half way to version three\", it is the fifth\n",
        "second-level revision of the second first-level revision.\n",
        "\n",
        "\n",
        "Here is an example of version numbers ordering: 0.1 < 1.1 < 1.2 < 1.2.9.9.9.9 < 1.3 < 1.3.4 < 1.10"
      ],
      "metadata": {
        "id": "IFmtBWCaDka0"
      }
    },
    {
      "cell_type": "code",
      "source": [
        "def compare(version1: str, version2: str) -> int:\n",
        "  \n",
        "  v1_numbers = version1.split('.')\n",
        "  v2_numbers = version2.split('.')\n",
        "\n",
        "  for num1, num2 in zip(v1_numbers, v2_numbers):\n",
        "    if int(num1) > int(num2):\n",
        "      return 1\n",
        "    elif int(num1) < int(num2):\n",
        "      return -1\n",
        "  \n",
        "  if len(v1_numbers) == len(v2_numbers):\n",
        "    return 0\n",
        "  elif len(v2_numbers) > len(v1_numbers):\n",
        "    return -1\n",
        "  else:\n",
        "    return 1\n",
        "  \n"
      ],
      "metadata": {
        "id": "HQfFsiuJDrem"
      },
      "execution_count": null,
      "outputs": []
    },
    {
      "cell_type": "code",
      "source": [
        "assert compare('5', '7') == -1"
      ],
      "metadata": {
        "id": "vD9cwRveJLWQ"
      },
      "execution_count": null,
      "outputs": []
    },
    {
      "cell_type": "code",
      "source": [
        "assert compare('1.2.9.9.9.9', '1.2') == 1"
      ],
      "metadata": {
        "id": "6Tmr_zi1J2bR"
      },
      "execution_count": null,
      "outputs": []
    },
    {
      "cell_type": "code",
      "source": [
        "assert compare('1.2', '1.2') == 0"
      ],
      "metadata": {
        "id": "s65TevplJ_Va"
      },
      "execution_count": null,
      "outputs": []
    },
    {
      "cell_type": "code",
      "source": [
        "assert compare('0.1', '0.10') == -1"
      ],
      "metadata": {
        "id": "T-LJ04jhKEJC"
      },
      "execution_count": null,
      "outputs": []
    },
    {
      "cell_type": "code",
      "source": [
        ""
      ],
      "metadata": {
        "id": "289tb6ttKJuz"
      },
      "execution_count": null,
      "outputs": []
    }
  ]
}